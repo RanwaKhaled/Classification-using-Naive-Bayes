{
 "cells": [
  {
   "cell_type": "code",
   "execution_count": 62,
   "metadata": {},
   "outputs": [],
   "source": [
    "import warnings\n",
    "\n",
    "warnings.filterwarnings('ignore')"
   ]
  },
  {
   "cell_type": "markdown",
   "metadata": {},
   "source": [
    "# Naive Bayes "
   ]
  },
  {
   "cell_type": "code",
   "execution_count": 2,
   "metadata": {},
   "outputs": [],
   "source": [
    "import numpy as np \n",
    "import pandas as pd"
   ]
  },
  {
   "cell_type": "code",
   "execution_count": 14,
   "metadata": {},
   "outputs": [
    {
     "data": {
      "text/html": [
       "<div>\n",
       "<style scoped>\n",
       "    .dataframe tbody tr th:only-of-type {\n",
       "        vertical-align: middle;\n",
       "    }\n",
       "\n",
       "    .dataframe tbody tr th {\n",
       "        vertical-align: top;\n",
       "    }\n",
       "\n",
       "    .dataframe thead th {\n",
       "        text-align: right;\n",
       "    }\n",
       "</style>\n",
       "<table border=\"1\" class=\"dataframe\">\n",
       "  <thead>\n",
       "    <tr style=\"text-align: right;\">\n",
       "      <th></th>\n",
       "      <th>age</th>\n",
       "      <th>workclass</th>\n",
       "      <th>fnlwgt</th>\n",
       "      <th>education</th>\n",
       "      <th>education_num</th>\n",
       "      <th>marital_status</th>\n",
       "      <th>occupation</th>\n",
       "      <th>relationship</th>\n",
       "      <th>race</th>\n",
       "      <th>sex</th>\n",
       "      <th>capital_gain</th>\n",
       "      <th>capital_loss</th>\n",
       "      <th>hours_per_week</th>\n",
       "      <th>country</th>\n",
       "      <th>income</th>\n",
       "    </tr>\n",
       "  </thead>\n",
       "  <tbody>\n",
       "    <tr>\n",
       "      <th>0</th>\n",
       "      <td>25</td>\n",
       "      <td>Private</td>\n",
       "      <td>226802</td>\n",
       "      <td>11th</td>\n",
       "      <td>7</td>\n",
       "      <td>Never-married</td>\n",
       "      <td>Machine-op-inspct</td>\n",
       "      <td>Own-child</td>\n",
       "      <td>Black</td>\n",
       "      <td>Male</td>\n",
       "      <td>0</td>\n",
       "      <td>0</td>\n",
       "      <td>40</td>\n",
       "      <td>United-States</td>\n",
       "      <td>&lt;=50K.</td>\n",
       "    </tr>\n",
       "    <tr>\n",
       "      <th>1</th>\n",
       "      <td>38</td>\n",
       "      <td>Private</td>\n",
       "      <td>89814</td>\n",
       "      <td>HS-grad</td>\n",
       "      <td>9</td>\n",
       "      <td>Married-civ-spouse</td>\n",
       "      <td>Farming-fishing</td>\n",
       "      <td>Husband</td>\n",
       "      <td>White</td>\n",
       "      <td>Male</td>\n",
       "      <td>0</td>\n",
       "      <td>0</td>\n",
       "      <td>50</td>\n",
       "      <td>United-States</td>\n",
       "      <td>&lt;=50K.</td>\n",
       "    </tr>\n",
       "    <tr>\n",
       "      <th>2</th>\n",
       "      <td>28</td>\n",
       "      <td>Local-gov</td>\n",
       "      <td>336951</td>\n",
       "      <td>Assoc-acdm</td>\n",
       "      <td>12</td>\n",
       "      <td>Married-civ-spouse</td>\n",
       "      <td>Protective-serv</td>\n",
       "      <td>Husband</td>\n",
       "      <td>White</td>\n",
       "      <td>Male</td>\n",
       "      <td>0</td>\n",
       "      <td>0</td>\n",
       "      <td>40</td>\n",
       "      <td>United-States</td>\n",
       "      <td>&gt;50K.</td>\n",
       "    </tr>\n",
       "    <tr>\n",
       "      <th>3</th>\n",
       "      <td>44</td>\n",
       "      <td>Private</td>\n",
       "      <td>160323</td>\n",
       "      <td>Some-college</td>\n",
       "      <td>10</td>\n",
       "      <td>Married-civ-spouse</td>\n",
       "      <td>Machine-op-inspct</td>\n",
       "      <td>Husband</td>\n",
       "      <td>Black</td>\n",
       "      <td>Male</td>\n",
       "      <td>7688</td>\n",
       "      <td>0</td>\n",
       "      <td>40</td>\n",
       "      <td>United-States</td>\n",
       "      <td>&gt;50K.</td>\n",
       "    </tr>\n",
       "    <tr>\n",
       "      <th>4</th>\n",
       "      <td>18</td>\n",
       "      <td>?</td>\n",
       "      <td>103497</td>\n",
       "      <td>Some-college</td>\n",
       "      <td>10</td>\n",
       "      <td>Never-married</td>\n",
       "      <td>?</td>\n",
       "      <td>Own-child</td>\n",
       "      <td>White</td>\n",
       "      <td>Female</td>\n",
       "      <td>0</td>\n",
       "      <td>0</td>\n",
       "      <td>30</td>\n",
       "      <td>United-States</td>\n",
       "      <td>&lt;=50K.</td>\n",
       "    </tr>\n",
       "    <tr>\n",
       "      <th>5</th>\n",
       "      <td>34</td>\n",
       "      <td>Private</td>\n",
       "      <td>198693</td>\n",
       "      <td>10th</td>\n",
       "      <td>6</td>\n",
       "      <td>Never-married</td>\n",
       "      <td>Other-service</td>\n",
       "      <td>Not-in-family</td>\n",
       "      <td>White</td>\n",
       "      <td>Male</td>\n",
       "      <td>0</td>\n",
       "      <td>0</td>\n",
       "      <td>30</td>\n",
       "      <td>United-States</td>\n",
       "      <td>&lt;=50K.</td>\n",
       "    </tr>\n",
       "    <tr>\n",
       "      <th>6</th>\n",
       "      <td>29</td>\n",
       "      <td>?</td>\n",
       "      <td>227026</td>\n",
       "      <td>HS-grad</td>\n",
       "      <td>9</td>\n",
       "      <td>Never-married</td>\n",
       "      <td>?</td>\n",
       "      <td>Unmarried</td>\n",
       "      <td>Black</td>\n",
       "      <td>Male</td>\n",
       "      <td>0</td>\n",
       "      <td>0</td>\n",
       "      <td>40</td>\n",
       "      <td>United-States</td>\n",
       "      <td>&lt;=50K.</td>\n",
       "    </tr>\n",
       "    <tr>\n",
       "      <th>7</th>\n",
       "      <td>63</td>\n",
       "      <td>Self-emp-not-inc</td>\n",
       "      <td>104626</td>\n",
       "      <td>Prof-school</td>\n",
       "      <td>15</td>\n",
       "      <td>Married-civ-spouse</td>\n",
       "      <td>Prof-specialty</td>\n",
       "      <td>Husband</td>\n",
       "      <td>White</td>\n",
       "      <td>Male</td>\n",
       "      <td>3103</td>\n",
       "      <td>0</td>\n",
       "      <td>32</td>\n",
       "      <td>United-States</td>\n",
       "      <td>&gt;50K.</td>\n",
       "    </tr>\n",
       "    <tr>\n",
       "      <th>8</th>\n",
       "      <td>24</td>\n",
       "      <td>Private</td>\n",
       "      <td>369667</td>\n",
       "      <td>Some-college</td>\n",
       "      <td>10</td>\n",
       "      <td>Never-married</td>\n",
       "      <td>Other-service</td>\n",
       "      <td>Unmarried</td>\n",
       "      <td>White</td>\n",
       "      <td>Female</td>\n",
       "      <td>0</td>\n",
       "      <td>0</td>\n",
       "      <td>40</td>\n",
       "      <td>United-States</td>\n",
       "      <td>&lt;=50K.</td>\n",
       "    </tr>\n",
       "    <tr>\n",
       "      <th>9</th>\n",
       "      <td>55</td>\n",
       "      <td>Private</td>\n",
       "      <td>104996</td>\n",
       "      <td>7th-8th</td>\n",
       "      <td>4</td>\n",
       "      <td>Married-civ-spouse</td>\n",
       "      <td>Craft-repair</td>\n",
       "      <td>Husband</td>\n",
       "      <td>White</td>\n",
       "      <td>Male</td>\n",
       "      <td>0</td>\n",
       "      <td>0</td>\n",
       "      <td>10</td>\n",
       "      <td>United-States</td>\n",
       "      <td>&lt;=50K.</td>\n",
       "    </tr>\n",
       "  </tbody>\n",
       "</table>\n",
       "</div>"
      ],
      "text/plain": [
       "   age          workclass  fnlwgt      education  education_num  \\\n",
       "0   25            Private  226802           11th              7   \n",
       "1   38            Private   89814        HS-grad              9   \n",
       "2   28          Local-gov  336951     Assoc-acdm             12   \n",
       "3   44            Private  160323   Some-college             10   \n",
       "4   18                  ?  103497   Some-college             10   \n",
       "5   34            Private  198693           10th              6   \n",
       "6   29                  ?  227026        HS-grad              9   \n",
       "7   63   Self-emp-not-inc  104626    Prof-school             15   \n",
       "8   24            Private  369667   Some-college             10   \n",
       "9   55            Private  104996        7th-8th              4   \n",
       "\n",
       "        marital_status          occupation    relationship    race      sex  \\\n",
       "0        Never-married   Machine-op-inspct       Own-child   Black     Male   \n",
       "1   Married-civ-spouse     Farming-fishing         Husband   White     Male   \n",
       "2   Married-civ-spouse     Protective-serv         Husband   White     Male   \n",
       "3   Married-civ-spouse   Machine-op-inspct         Husband   Black     Male   \n",
       "4        Never-married                   ?       Own-child   White   Female   \n",
       "5        Never-married       Other-service   Not-in-family   White     Male   \n",
       "6        Never-married                   ?       Unmarried   Black     Male   \n",
       "7   Married-civ-spouse      Prof-specialty         Husband   White     Male   \n",
       "8        Never-married       Other-service       Unmarried   White   Female   \n",
       "9   Married-civ-spouse        Craft-repair         Husband   White     Male   \n",
       "\n",
       "   capital_gain  capital_loss  hours_per_week         country   income  \n",
       "0             0             0              40   United-States   <=50K.  \n",
       "1             0             0              50   United-States   <=50K.  \n",
       "2             0             0              40   United-States    >50K.  \n",
       "3          7688             0              40   United-States    >50K.  \n",
       "4             0             0              30   United-States   <=50K.  \n",
       "5             0             0              30   United-States   <=50K.  \n",
       "6             0             0              40   United-States   <=50K.  \n",
       "7          3103             0              32   United-States    >50K.  \n",
       "8             0             0              40   United-States   <=50K.  \n",
       "9             0             0              10   United-States   <=50K.  "
      ]
     },
     "execution_count": 14,
     "metadata": {},
     "output_type": "execute_result"
    }
   ],
   "source": [
    "# Load dataset\n",
    "dataset = pd.read_csv('adult_test.csv')\n",
    "dataset.head(10)"
   ]
  },
  {
   "cell_type": "code",
   "execution_count": 15,
   "metadata": {},
   "outputs": [
    {
     "data": {
      "text/plain": [
       "16281"
      ]
     },
     "execution_count": 15,
     "metadata": {},
     "output_type": "execute_result"
    }
   ],
   "source": [
    "len(dataset)"
   ]
  },
  {
   "cell_type": "code",
   "execution_count": 49,
   "metadata": {},
   "outputs": [
    {
     "name": "stdout",
     "output_type": "stream",
     "text": [
      "<class 'pandas.core.frame.DataFrame'>\n",
      "RangeIndex: 16281 entries, 0 to 16280\n",
      "Data columns (total 15 columns):\n",
      " #   Column          Non-Null Count  Dtype \n",
      "---  ------          --------------  ----- \n",
      " 0   age             16281 non-null  int64 \n",
      " 1   workclass       16281 non-null  object\n",
      " 2   fnlwgt          16281 non-null  int64 \n",
      " 3   education       16281 non-null  object\n",
      " 4   education_num   16281 non-null  int64 \n",
      " 5   marital_status  16281 non-null  object\n",
      " 6   occupation      16281 non-null  object\n",
      " 7   relationship    16281 non-null  object\n",
      " 8   race            16281 non-null  object\n",
      " 9   sex             16281 non-null  object\n",
      " 10  capital_gain    16281 non-null  int64 \n",
      " 11  capital_loss    16281 non-null  int64 \n",
      " 12  hours_per_week  16281 non-null  int64 \n",
      " 13  country         16281 non-null  object\n",
      " 14  income          16281 non-null  object\n",
      "dtypes: int64(6), object(9)\n",
      "memory usage: 1.9+ MB\n"
     ]
    }
   ],
   "source": [
    "dataset.info()"
   ]
  },
  {
   "cell_type": "code",
   "execution_count": 51,
   "metadata": {},
   "outputs": [
    {
     "data": {
      "text/plain": [
       "['age',\n",
       " 'fnlwgt',\n",
       " 'education_num',\n",
       " 'capital_gain',\n",
       " 'capital_loss',\n",
       " 'hours_per_week']"
      ]
     },
     "execution_count": 51,
     "metadata": {},
     "output_type": "execute_result"
    }
   ],
   "source": [
    "dataset.select_dtypes('number').columns.to_list()"
   ]
  },
  {
   "cell_type": "markdown",
   "metadata": {},
   "source": [
    "### Info about the dataset"
   ]
  },
  {
   "cell_type": "code",
   "execution_count": 16,
   "metadata": {},
   "outputs": [
    {
     "name": "stdout",
     "output_type": "stream",
     "text": [
      "values of age are:\n",
      " [25 38 28 44 18 34 29 63 24 55 65 36 26 58 48 43 20 37 40 72 45 22 23 54\n",
      " 32 46 56 17 39 52 21 42 33 30 47 41 19 69 50 31 59 49 51 27 57 61 64 79\n",
      " 73 53 77 80 62 35 68 66 75 60 67 71 70 90 81 74 78 82 83 85 76 84 89 88\n",
      " 87]\n",
      "values of workclass are:\n",
      " [' Private' ' Local-gov' ' ?' ' Self-emp-not-inc' ' Federal-gov'\n",
      " ' State-gov' ' Self-emp-inc' ' Without-pay' ' Never-worked']\n",
      "values of fnlwgt are:\n",
      " [226802  89814 336951 ... 349230 321403  83891]\n",
      "values of education are:\n",
      " [' 11th' ' HS-grad' ' Assoc-acdm' ' Some-college' ' 10th' ' Prof-school'\n",
      " ' 7th-8th' ' Bachelors' ' Masters' ' Doctorate' ' 5th-6th' ' Assoc-voc'\n",
      " ' 9th' ' 12th' ' 1st-4th' ' Preschool']\n",
      "values of education_num are:\n",
      " [ 7  9 12 10  6 15  4 13 14 16  3 11  5  8  2  1]\n",
      "values of marital_status are:\n",
      " [' Never-married' ' Married-civ-spouse' ' Widowed' ' Divorced'\n",
      " ' Separated' ' Married-spouse-absent' ' Married-AF-spouse']\n",
      "values of occupation are:\n",
      " [' Machine-op-inspct' ' Farming-fishing' ' Protective-serv' ' ?'\n",
      " ' Other-service' ' Prof-specialty' ' Craft-repair' ' Adm-clerical'\n",
      " ' Exec-managerial' ' Tech-support' ' Sales' ' Priv-house-serv'\n",
      " ' Transport-moving' ' Handlers-cleaners' ' Armed-Forces']\n",
      "values of relationship are:\n",
      " [' Own-child' ' Husband' ' Not-in-family' ' Unmarried' ' Wife'\n",
      " ' Other-relative']\n",
      "values of race are:\n",
      " [' Black' ' White' ' Asian-Pac-Islander' ' Other' ' Amer-Indian-Eskimo']\n",
      "values of sex are:\n",
      " [' Male' ' Female']\n",
      "values of capital_gain are:\n",
      " [    0  7688  3103  6418  7298  3908 14084  5178 15024 99999  2597  2907\n",
      "  4650  6497  1055  5013 27828  4934  4064  3674  2174 10605  3418   114\n",
      "  2580  3411  4508  4386  8614 13550  6849  2463  3137  2885  2964  1471\n",
      " 10566  2354  1424  1455  3325  4416 25236   594  2105  4787  2829   401\n",
      "  4865  1264  1506 10520  3464  2653 20051  4101  1797  2407  3471  1086\n",
      "  1848 14344  1151  2993  2290 15020  9386  2202  3818  2176  5455 11678\n",
      "  7978  7262  6514 41310  3456  7430  2414  2062 34095  1831  6723  5060\n",
      " 15831  2977  2346  3273  2329  9562  2635  4931  1731  6097   914  7896\n",
      "  5556  1409  3781  3942  2538  3887 25124  7443  5721  1173  4687  6612\n",
      "  6767  2961   991  2036  2936]\n",
      "values of capital_loss are:\n",
      " [   0 1721 1876 2415 1887  625 1977 2057 1429 1590 1485 2051 2377 1672\n",
      " 1628 1902 1602 1741 2444 1408 2001 2042 1740 1825 1848 1719 3004 2179\n",
      " 1573 2205 1258 2339 1726 2258 1340 1504 2559 1668 1974 1980 1564 2547\n",
      " 2002 1669 1617  323 3175 2472 2174 1579 2129 1510 1735 2282 1870 1411\n",
      " 1911 1651 1092 1762 2457 2231 2238  653 1138 2246 2603 2392 1944 1380\n",
      " 2465 1421 3770 1594  213 2149 2824 1844 2467 2163 1816 1648]\n",
      "values of hours_per_week are:\n",
      " [40 50 30 32 10 39 35 48 25 20 45 47  6 43 90 54 60 38 36 18 24 44 56 28\n",
      " 16 41 22 55 14 33 37  8 12 70 15 75 52 84 42 80 68 99 65  5 17 72 53 29\n",
      " 96 21 46  3  1 23 49 67 76  7  2 58 26 34  4 51 78 63 31 92 77 27 85 13\n",
      " 19 98 62 66 57 11 86 59  9 64 73 61 88 79 89 74 69]\n",
      "values of country are:\n",
      " [' United-States' ' ?' ' Peru' ' Guatemala' ' Mexico'\n",
      " ' Dominican-Republic' ' Ireland' ' Germany' ' Philippines' ' Thailand'\n",
      " ' Haiti' ' El-Salvador' ' Puerto-Rico' ' Vietnam' ' South' ' Columbia'\n",
      " ' Japan' ' India' ' Cambodia' ' Poland' ' Laos' ' England' ' Cuba'\n",
      " ' Taiwan' ' Italy' ' Canada' ' Portugal' ' China' ' Nicaragua'\n",
      " ' Honduras' ' Iran' ' Scotland' ' Jamaica' ' Ecuador' ' Yugoslavia'\n",
      " ' Hungary' ' Hong' ' Greece' ' Trinadad&Tobago'\n",
      " ' Outlying-US(Guam-USVI-etc)' ' France']\n",
      "values of income are:\n",
      " [' <=50K.' ' >50K.']\n"
     ]
    }
   ],
   "source": [
    "def values_of_features():\n",
    "    for feature in dataset.columns.to_list():\n",
    "        print(f'values of {dataset[feature].name} are:\\n {dataset[feature].unique()}')\n",
    "values_of_features()"
   ]
  },
  {
   "cell_type": "markdown",
   "metadata": {},
   "source": [
    "##### We see that in some features there are **'?'** values which represent the null for us, and it's why we have to replace them with the **most frequent value** in each column"
   ]
  },
  {
   "cell_type": "markdown",
   "metadata": {},
   "source": [
    "### Cleaning the dataset"
   ]
  },
  {
   "cell_type": "code",
   "execution_count": 17,
   "metadata": {},
   "outputs": [],
   "source": [
    "# replacing the ' ?' in some cells with the most frequent value\n",
    "for feature in dataset.columns.to_list():\n",
    "    mode = dataset[feature].mode()[0]\n",
    "    dataset[feature] = dataset[feature].replace(\" ?\", mode)\n"
   ]
  },
  {
   "cell_type": "markdown",
   "metadata": {},
   "source": [
    "Take a look at the values of each column after replacement"
   ]
  },
  {
   "cell_type": "code",
   "execution_count": 18,
   "metadata": {},
   "outputs": [
    {
     "name": "stdout",
     "output_type": "stream",
     "text": [
      "values of age are:\n",
      " [25 38 28 44 18 34 29 63 24 55 65 36 26 58 48 43 20 37 40 72 45 22 23 54\n",
      " 32 46 56 17 39 52 21 42 33 30 47 41 19 69 50 31 59 49 51 27 57 61 64 79\n",
      " 73 53 77 80 62 35 68 66 75 60 67 71 70 90 81 74 78 82 83 85 76 84 89 88\n",
      " 87]\n",
      "values of workclass are:\n",
      " [' Private' ' Local-gov' ' Self-emp-not-inc' ' Federal-gov' ' State-gov'\n",
      " ' Self-emp-inc' ' Without-pay' ' Never-worked']\n",
      "values of fnlwgt are:\n",
      " [226802  89814 336951 ... 349230 321403  83891]\n",
      "values of education are:\n",
      " [' 11th' ' HS-grad' ' Assoc-acdm' ' Some-college' ' 10th' ' Prof-school'\n",
      " ' 7th-8th' ' Bachelors' ' Masters' ' Doctorate' ' 5th-6th' ' Assoc-voc'\n",
      " ' 9th' ' 12th' ' 1st-4th' ' Preschool']\n",
      "values of education_num are:\n",
      " [ 7  9 12 10  6 15  4 13 14 16  3 11  5  8  2  1]\n",
      "values of marital_status are:\n",
      " [' Never-married' ' Married-civ-spouse' ' Widowed' ' Divorced'\n",
      " ' Separated' ' Married-spouse-absent' ' Married-AF-spouse']\n",
      "values of occupation are:\n",
      " [' Machine-op-inspct' ' Farming-fishing' ' Protective-serv'\n",
      " ' Prof-specialty' ' Other-service' ' Craft-repair' ' Adm-clerical'\n",
      " ' Exec-managerial' ' Tech-support' ' Sales' ' Priv-house-serv'\n",
      " ' Transport-moving' ' Handlers-cleaners' ' Armed-Forces']\n",
      "values of relationship are:\n",
      " [' Own-child' ' Husband' ' Not-in-family' ' Unmarried' ' Wife'\n",
      " ' Other-relative']\n",
      "values of race are:\n",
      " [' Black' ' White' ' Asian-Pac-Islander' ' Other' ' Amer-Indian-Eskimo']\n",
      "values of sex are:\n",
      " [' Male' ' Female']\n",
      "values of capital_gain are:\n",
      " [    0  7688  3103  6418  7298  3908 14084  5178 15024 99999  2597  2907\n",
      "  4650  6497  1055  5013 27828  4934  4064  3674  2174 10605  3418   114\n",
      "  2580  3411  4508  4386  8614 13550  6849  2463  3137  2885  2964  1471\n",
      " 10566  2354  1424  1455  3325  4416 25236   594  2105  4787  2829   401\n",
      "  4865  1264  1506 10520  3464  2653 20051  4101  1797  2407  3471  1086\n",
      "  1848 14344  1151  2993  2290 15020  9386  2202  3818  2176  5455 11678\n",
      "  7978  7262  6514 41310  3456  7430  2414  2062 34095  1831  6723  5060\n",
      " 15831  2977  2346  3273  2329  9562  2635  4931  1731  6097   914  7896\n",
      "  5556  1409  3781  3942  2538  3887 25124  7443  5721  1173  4687  6612\n",
      "  6767  2961   991  2036  2936]\n",
      "values of capital_loss are:\n",
      " [   0 1721 1876 2415 1887  625 1977 2057 1429 1590 1485 2051 2377 1672\n",
      " 1628 1902 1602 1741 2444 1408 2001 2042 1740 1825 1848 1719 3004 2179\n",
      " 1573 2205 1258 2339 1726 2258 1340 1504 2559 1668 1974 1980 1564 2547\n",
      " 2002 1669 1617  323 3175 2472 2174 1579 2129 1510 1735 2282 1870 1411\n",
      " 1911 1651 1092 1762 2457 2231 2238  653 1138 2246 2603 2392 1944 1380\n",
      " 2465 1421 3770 1594  213 2149 2824 1844 2467 2163 1816 1648]\n",
      "values of hours_per_week are:\n",
      " [40 50 30 32 10 39 35 48 25 20 45 47  6 43 90 54 60 38 36 18 24 44 56 28\n",
      " 16 41 22 55 14 33 37  8 12 70 15 75 52 84 42 80 68 99 65  5 17 72 53 29\n",
      " 96 21 46  3  1 23 49 67 76  7  2 58 26 34  4 51 78 63 31 92 77 27 85 13\n",
      " 19 98 62 66 57 11 86 59  9 64 73 61 88 79 89 74 69]\n",
      "values of country are:\n",
      " [' United-States' ' Peru' ' Guatemala' ' Mexico' ' Dominican-Republic'\n",
      " ' Ireland' ' Germany' ' Philippines' ' Thailand' ' Haiti' ' El-Salvador'\n",
      " ' Puerto-Rico' ' Vietnam' ' South' ' Columbia' ' Japan' ' India'\n",
      " ' Cambodia' ' Poland' ' Laos' ' England' ' Cuba' ' Taiwan' ' Italy'\n",
      " ' Canada' ' Portugal' ' China' ' Nicaragua' ' Honduras' ' Iran'\n",
      " ' Scotland' ' Jamaica' ' Ecuador' ' Yugoslavia' ' Hungary' ' Hong'\n",
      " ' Greece' ' Trinadad&Tobago' ' Outlying-US(Guam-USVI-etc)' ' France']\n",
      "values of income are:\n",
      " [' <=50K.' ' >50K.']\n"
     ]
    }
   ],
   "source": [
    "values_of_features()"
   ]
  },
  {
   "cell_type": "markdown",
   "metadata": {},
   "source": [
    "We see that the **?** symbol in some of the columns is gone now"
   ]
  },
  {
   "cell_type": "markdown",
   "metadata": {},
   "source": [
    "## Naive Bayes Algorithm"
   ]
  },
  {
   "cell_type": "markdown",
   "metadata": {},
   "source": [
    "#### I. Method to calculate the conditional probabilities of each value in each feature"
   ]
  },
  {
   "cell_type": "code",
   "execution_count": 19,
   "metadata": {},
   "outputs": [],
   "source": [
    "# Method to calculate likelihood\n",
    "def calculate_likelihood(dataset, feature_name, value, label_col, label):\n",
    "    # get the rows where the label equals the passed target \n",
    "    target_label_df = dataset[dataset[label_col]==label]\n",
    "    # calculate the conditional probability of the features's value\n",
    "    feature_given_label = len(target_label_df[target_label_df[feature_name]==value])/len(target_label_df)\n",
    "    # return the calculated probability\n",
    "    return feature_given_label"
   ]
  },
  {
   "cell_type": "code",
   "execution_count": 75,
   "metadata": {},
   "outputs": [],
   "source": [
    "# method to calculate likelihood of numerical features for one single sample \n",
    "import numpy as np\n",
    "from scipy.stats import norm\n",
    "\n",
    "def calculate_numerical_likelihood(feature_value, feature_values, target_values, target_label):\n",
    "    \"\"\"\n",
    "    Calculate the likelihood of a numerical feature given a specific target label.\n",
    "\n",
    "    Parameters:\n",
    "    feature_value (number): the value of the numerical feature for the sample\n",
    "    feature_values (array-like): The values of the numerical feature.\n",
    "    target_values (array-like): The corresponding target labels.\n",
    "    target_label (str or int): The target label for which likelihood is calculated.\n",
    "\n",
    "    Returns:\n",
    "    float: The likelihood of the numerical feature given the target label.\n",
    "    \"\"\"\n",
    "    # Filter feature values corresponding to the target label\n",
    "    feature_values_target = feature_values[target_values == target_label]\n",
    "    \n",
    "    # Calculate mean and standard deviation of the feature values\n",
    "    mean = np.mean(feature_values_target)\n",
    "    std_dev = np.std(feature_values_target)\n",
    "\n",
    "    # Use normal distribution to calculate likelihood\n",
    "    likelihood = norm.pdf(feature_value, mean, std_dev)\n",
    "\n",
    "    return likelihood"
   ]
  },
  {
   "cell_type": "markdown",
   "metadata": {},
   "source": [
    "#### Method to calculate the likelihood of all values in the dataset for categorical features:\n",
    "    this method returns a dictionary of likelihoods for categorical features as the likelihoods for the numerical feature is calculated sample by sample"
   ]
  },
  {
   "cell_type": "code",
   "execution_count": 77,
   "metadata": {},
   "outputs": [
    {
     "data": {
      "text/plain": [
       "{'workclass': {' Private': {' <=50K.': 0.7780458383594693,\n",
       "   ' >50K.': 0.6495059802392096},\n",
       "  ' Local-gov': {' <=50K.': 0.058946521913952554,\n",
       "   ' >50K.': 0.08060322412896516},\n",
       "  ' Self-emp-not-inc': {' <=50K.': 0.07784479292320064,\n",
       "   ' >50K.': 0.09178367134685388},\n",
       "  ' Federal-gov': {' <=50K.': 0.022677925211097707,\n",
       "   ' >50K.': 0.04940197607904316},\n",
       "  ' State-gov': {' <=50K.': 0.04069159630076397,\n",
       "   ' >50K.': 0.046021840873634944},\n",
       "  ' Self-emp-inc': {' <=50K.': 0.02114997989545637,\n",
       "   ' >50K.': 0.08216328653146125},\n",
       "  ' Without-pay': {' <=50K.': 0.0004020908725371934,\n",
       "   ' >50K.': 0.0005200208008320333},\n",
       "  ' Never-worked': {' <=50K.': 0.00024125452352231604, ' >50K.': 0.0}},\n",
       " 'education': {' 11th': {' <=50K.': 0.0486529955770004,\n",
       "   ' >50K.': 0.008320332813312533},\n",
       "  ' HS-grad': {' <=50K.': 0.35826296743063935, ' >50K.': 0.21528861154446177},\n",
       "  ' Assoc-acdm': {' <=50K.': 0.03104141535987133,\n",
       "   ' >50K.': 0.03848153926157046},\n",
       "  ' Some-college': {' <=50K.': 0.234097305991154,\n",
       "   ' >50K.': 0.17576703068122726},\n",
       "  ' 10th': {' <=50K.': 0.034660233212706074, ' >50K.': 0.006500260010400416},\n",
       "  ' Prof-school': {' <=50K.': 0.0051467631684760755,\n",
       "   ' >50K.': 0.050442017680707225},\n",
       "  ' 7th-8th': {' <=50K.': 0.023080016083634903,\n",
       "   ' >50K.': 0.005720228809152366},\n",
       "  ' Bachelors': {' <=50K.': 0.12689987937273825, ' >50K.': 0.2839313572542902},\n",
       "  ' Masters': {' <=50K.': 0.034901487736228386, ' >50K.': 0.13000520020800832},\n",
       "  ' Doctorate': {' <=50K.': 0.0045034177724165665,\n",
       "   ' >50K.': 0.03250130005200208},\n",
       "  ' 5th-6th': {' <=50K.': 0.013268998793727383,\n",
       "   ' >50K.': 0.002860114404576183},\n",
       "  ' Assoc-voc': {' <=50K.': 0.041656614394853235,\n",
       "   ' >50K.': 0.04186167446697868},\n",
       "  ' 9th': {' <=50K.': 0.01833534378769602, ' >50K.': 0.003640145605824233},\n",
       "  ' 12th': {' <=50K.': 0.016807398472054685, ' >50K.': 0.0039001560062402497},\n",
       "  ' 1st-4th': {' <=50K.': 0.006192199437072779,\n",
       "   ' >50K.': 0.0005200208008320333},\n",
       "  ' Preschool': {' <=50K.': 0.0024929634097305992,\n",
       "   ' >50K.': 0.00026001040041601667}},\n",
       " 'marital_status': {' Never-married': {' <=50K.': 0.41753116204262164,\n",
       "   ' >50K.': 0.06292251690067603},\n",
       "  ' Married-civ-spouse': {' <=50K.': 0.3305991154000804,\n",
       "   ' >50K.': 0.8559542381695268},\n",
       "  ' Widowed': {' <=50K.': 0.03876156011258544, ' >50K.': 0.011180447217888715},\n",
       "  ' Divorced': {' <=50K.': 0.15938882187374345, ' >50K.': 0.05408216328653146},\n",
       "  ' Separated': {' <=50K.': 0.037957378367511056,\n",
       "   ' >50K.': 0.00858034321372855},\n",
       "  ' Married-spouse-absent': {' <=50K.': 0.014957780458383595,\n",
       "   ' >50K.': 0.0062402496099844},\n",
       "  ' Married-AF-spouse': {' <=50K.': 0.0008041817450743868,\n",
       "   ' >50K.': 0.0010400416016640667}},\n",
       " 'occupation': {' Machine-op-inspct': {' <=50K.': 0.07221552070767993,\n",
       "   ' >50K.': 0.031721268850754034},\n",
       "  ' Farming-fishing': {' <=50K.': 0.03522316043425814,\n",
       "   ' >50K.': 0.015080603224128965},\n",
       "  ' Protective-serv': {' <=50K.': 0.019059107358262967,\n",
       "   ' >50K.': 0.025221008840353613},\n",
       "  ' Prof-specialty': {' <=50K.': 0.16075593084036993,\n",
       "   ' >50K.': 0.25975039001560063},\n",
       "  ' Other-service': {' <=50K.': 0.12553277040611177,\n",
       "   ' >50K.': 0.017420696827873113},\n",
       "  ' Craft-repair': {' <=50K.': 0.1253719340570969,\n",
       "   ' >50K.': 0.11804472178887156},\n",
       "  ' Adm-clerical': {' <=50K.': 0.12706071572175312,\n",
       "   ' >50K.': 0.06786271450858035},\n",
       "  ' Exec-managerial': {' <=50K.': 0.08685162846803378,\n",
       "   ' >50K.': 0.24440977639105566},\n",
       "  ' Tech-support': {' <=50K.': 0.030639324487334137,\n",
       "   ' >50K.': 0.03562142485699428},\n",
       "  ' Sales': {' <=50K.': 0.10952955367913149, ' >50K.': 0.12792511700468018},\n",
       "  ' Priv-house-serv': {' <=50K.': 0.00731805388017692,\n",
       "   ' >50K.': 0.0005200208008320333},\n",
       "  ' Transport-moving': {' <=50K.': 0.048009650180940895,\n",
       "   ' >50K.': 0.04186167446697868},\n",
       "  ' Handlers-cleaners': {' <=50K.': 0.05227181342983514,\n",
       "   ' >50K.': 0.013520540821632865},\n",
       "  ' Armed-Forces': {' <=50K.': 0.00016083634901487736,\n",
       "   ' >50K.': 0.0010400416016640667}},\n",
       " 'relationship': {' Own-child': {' <=50K.': 0.1985524728588661,\n",
       "   ' >50K.': 0.011440457618304731},\n",
       "  ' Husband': {' <=50K.': 0.28910333735424204, ' >50K.': 0.7613104524180967},\n",
       "  ' Not-in-family': {' <=50K.': 0.31025331724969846,\n",
       "   ' >50K.': 0.10920436817472699},\n",
       "  ' Unmarried': {' <=50K.': 0.12770406111781263,\n",
       "   ' >50K.': 0.023660946437857513},\n",
       "  ' Wife': {' <=50K.': 0.03337354242058705, ' >50K.': 0.0904836193447738},\n",
       "  ' Other-relative': {' <=50K.': 0.04101326899879373,\n",
       "   ' >50K.': 0.0039001560062402497}},\n",
       " 'race': {' Black': {' <=50K.': 0.11113791716928026,\n",
       "   ' >50K.': 0.04654186167446698},\n",
       "  ' White': {' <=50K.': 0.8408524326497788, ' >50K.': 0.907436297451898},\n",
       "  ' Asian-Pac-Islander': {' <=50K.': 0.02790510655408122,\n",
       "   ' >50K.': 0.034581383255330216},\n",
       "  ' Other': {' <=50K.': 0.008845999195818254, ' >50K.': 0.006500260010400416},\n",
       "  ' Amer-Indian-Eskimo': {' <=50K.': 0.011258544431041415,\n",
       "   ' >50K.': 0.004940197607904316}},\n",
       " 'sex': {' Male': {' <=50K.': 0.6114997989545637,\n",
       "   ' >50K.': 0.8465938637545501},\n",
       "  ' Female': {' <=50K.': 0.38850020104543626, ' >50K.': 0.15340613624544983}},\n",
       " 'country': {' United-States': {' <=50K.': 0.9118616807398472,\n",
       "   ' >50K.': 0.9352574102964119},\n",
       "  ' Peru': {' <=50K.': 0.0010454362685967029, ' >50K.': 0.0005200208008320333},\n",
       "  ' Guatemala': {' <=50K.': 0.0019300361881785283, ' >50K.': 0.0},\n",
       "  ' Mexico': {' <=50K.': 0.023642943305186973, ' >50K.': 0.003640145605824233},\n",
       "  ' Dominican-Republic': {' <=50K.': 0.0024125452352231603,\n",
       "   ' >50K.': 0.00078003120124805},\n",
       "  ' Ireland': {' <=50K.': 0.0005629272215520708, ' >50K.': 0.0015600624024961},\n",
       "  ' Germany': {' <=50K.': 0.004422999597909127,\n",
       "   ' >50K.': 0.003640145605824233},\n",
       "  ' Philippines': {' <=50K.': 0.005870526739043024,\n",
       "   ' >50K.': 0.0062402496099844},\n",
       "  ' Thailand': {' <=50K.': 0.0008041817450743868,\n",
       "   ' >50K.': 0.0005200208008320333},\n",
       "  ' Haiti': {' <=50K.': 0.0020908725371934058,\n",
       "   ' >50K.': 0.0013000520020800832},\n",
       "  ' El-Salvador': {' <=50K.': 0.003779654201849618,\n",
       "   ' >50K.': 0.0005200208008320333},\n",
       "  ' Puerto-Rico': {' <=50K.': 0.0049859268194611985,\n",
       "   ' >50K.': 0.0020800832033281333},\n",
       "  ' Vietnam': {' <=50K.': 0.0013671089666264576,\n",
       "   ' >50K.': 0.0005200208008320333},\n",
       "  ' South': {' <=50K.': 0.0024929634097305992,\n",
       "   ' >50K.': 0.0010400416016640667},\n",
       "  ' Columbia': {' <=50K.': 0.0019300361881785283,\n",
       "   ' >50K.': 0.0005200208008320333},\n",
       "  ' Japan': {' <=50K.': 0.001769199839163651, ' >50K.': 0.0020800832033281333},\n",
       "  ' India': {' <=50K.': 0.0023321270607157218, ' >50K.': 0.005720228809152366},\n",
       "  ' Cambodia': {' <=50K.': 0.0005629272215520708,\n",
       "   ' >50K.': 0.0005200208008320333},\n",
       "  ' Poland': {' <=50K.': 0.001769199839163651,\n",
       "   ' >50K.': 0.0013000520020800832},\n",
       "  ' Laos': {' <=50K.': 0.0004020908725371934, ' >50K.': 0.0},\n",
       "  ' England': {' <=50K.': 0.0016083634901487736,\n",
       "   ' >50K.': 0.004420176807072283},\n",
       "  ' Cuba': {' <=50K.': 0.002734217933252915, ' >50K.': 0.00234009360374415},\n",
       "  ' Taiwan': {' <=50K.': 0.0006433453960595094, ' >50K.': 0.0015600624024961},\n",
       "  ' Italy': {' <=50K.': 0.0018496180136710896, ' >50K.': 0.00234009360374415},\n",
       "  ' Canada': {' <=50K.': 0.002975472456775231, ' >50K.': 0.0062402496099844},\n",
       "  ' Portugal': {' <=50K.': 0.001769199839163651,\n",
       "   ' >50K.': 0.0020800832033281333},\n",
       "  ' China': {' <=50K.': 0.0024929634097305992, ' >50K.': 0.004160166406656267},\n",
       "  ' Nicaragua': {' <=50K.': 0.0011258544431041416,\n",
       "   ' >50K.': 0.00026001040041601667},\n",
       "  ' Honduras': {' <=50K.': 0.0004825090470446321,\n",
       "   ' >50K.': 0.00026001040041601667},\n",
       "  ' Iran': {' <=50K.': 0.0009650180940892642, ' >50K.': 0.0010400416016640667},\n",
       "  ' Scotland': {' <=50K.': 0.0007237635705669482, ' >50K.': 0.0},\n",
       "  ' Jamaica': {' <=50K.': 0.0016083634901487736,\n",
       "   ' >50K.': 0.0013000520020800832},\n",
       "  ' Ecuador': {' <=50K.': 0.0012062726176115801,\n",
       "   ' >50K.': 0.0005200208008320333},\n",
       "  ' Yugoslavia': {' <=50K.': 0.0004020908725371934,\n",
       "   ' >50K.': 0.0005200208008320333},\n",
       "  ' Hungary': {' <=50K.': 0.00024125452352231604,\n",
       "   ' >50K.': 0.00078003120124805},\n",
       "  ' Hong': {' <=50K.': 0.0006433453960595094, ' >50K.': 0.0005200208008320333},\n",
       "  ' Greece': {' <=50K.': 0.0008041817450743868,\n",
       "   ' >50K.': 0.0026001040041601664},\n",
       "  ' Trinadad&Tobago': {' <=50K.': 0.0006433453960595094, ' >50K.': 0.0},\n",
       "  ' Outlying-US(Guam-USVI-etc)': {' <=50K.': 0.0006433453960595094,\n",
       "   ' >50K.': 0.00026001040041601667},\n",
       "  ' France': {' <=50K.': 0.0004020908725371934,\n",
       "   ' >50K.': 0.0010400416016640667}}}"
      ]
     },
     "execution_count": 77,
     "metadata": {},
     "output_type": "execute_result"
    }
   ],
   "source": [
    "def likelihood_dict(dataset, target_col):\n",
    "    dict = {}\n",
    "    labels_arr = dataset[target_col].unique()\n",
    "\n",
    "    numerical_features = dataset.select_dtypes('number').columns.to_list()\n",
    "    for feature in dataset.columns.to_list()[:-1]:\n",
    "        \"\"\"if feature in numerical_features:\n",
    "            dict[feature][np.mean(dataset[feature])] = {}\n",
    "            for label in labels_arr:\n",
    "                dict[feature][np.mean(dataset[feature])][label] = calculate_numerical_likelihood(dataset[feature], dataset[target_col], label) \n",
    "        else:\"\"\"\n",
    "        if feature not in numerical_features:\n",
    "            dict[feature] = {}\n",
    "            for value in dataset[feature].unique():\n",
    "                dict[feature][value] = {}\n",
    "                for label in labels_arr:\n",
    "                    dict[feature][value][label] = calculate_likelihood(dataset, feature, value, target_col, label)\n",
    "    return dict\n",
    "\n",
    "# testing the method\n",
    "dict = likelihood_dict(dataset, 'income')\n",
    "dict  #['hours_per_week']"
   ]
  },
  {
   "cell_type": "markdown",
   "metadata": {},
   "source": [
    "#### II. Method to caculate the prior probabilities of each label"
   ]
  },
  {
   "cell_type": "code",
   "execution_count": 46,
   "metadata": {},
   "outputs": [],
   "source": [
    "def calculate_prior_probs(target_col):\n",
    "    # a list with a prob for each label value\n",
    "    prior = []\n",
    "    for label in target_col.unique():\n",
    "        prior.append(len(target_col[target_col==label])/len(target_col))\n",
    "    return prior"
   ]
  },
  {
   "cell_type": "markdown",
   "metadata": {},
   "source": [
    "#### III. Method to perform the naive bayes algorithm"
   ]
  },
  {
   "cell_type": "code",
   "execution_count": 78,
   "metadata": {},
   "outputs": [],
   "source": [
    "def naive_bayes(dataset, x, y):\n",
    "    \"\"\"\n",
    "    A method to make the prediction using the Naive Bayes algorithm\n",
    "\n",
    "    Parameters:\n",
    "    dataset (pandas dataframe): the dataset we want to use to make the prediction\n",
    "    x (pandas dataframe): the set of independant features to be used \n",
    "    y (string): the class/label we want to evaluate if the samples correspond to or not\n",
    "\n",
    "    \"\"\"\n",
    "    feature_names = x.columns.to_list()\n",
    "\n",
    "    # calculate the prior probabilities of each target label\n",
    "    prior_prob = calculate_prior_probs(y)\n",
    "\n",
    "    # a list to store the prediction of the class of each sample \n",
    "    y_pred = []  # with one prediction per sample \n",
    "\n",
    "    # calculate the likelihood of all the values of all features\n",
    "    liklihoods_dict = likelihood_dict(dataset, y.name)\n",
    "\n",
    "    # for each sample in the dataset\n",
    "    for x_idx in range(len(x)):\n",
    "        # a list to store the result of the multiplication of the likelihood for each label of all the features in the sample \n",
    "        likelihood = [1]*len(y.unique())\n",
    "        # for each label/target value calculate the likelihood\n",
    "        for i,label in enumerate(y.unique()):\n",
    "            # loop over each feature value\n",
    "            for j, feature in enumerate(feature_names):\n",
    "                # calculate the likelihood of the feature \n",
    "                # if the feature is numeric\n",
    "                if feature in dataset.select_dtypes('number').columns.to_list():\n",
    "                    likelihood[i] *= calculate_numerical_likelihood(x.iloc[x_idx][j], dataset[feature], y, label)\n",
    "                    # *= liklihoods_dict[feature][np.mean(x[feature])][label]\n",
    "                else:\n",
    "                    likelihood[i] *= liklihoods_dict[feature][x.iloc[x_idx][j]][label]\n",
    "        \n",
    "        # calculate the posterior probability for the sample\n",
    "        posterior_prob = np.asanyarray(prior_prob)*np.asanyarray(likelihood)\n",
    "        y_pred.append(y.unique()[np.argmax(posterior_prob)])\n",
    "    return y_pred"
   ]
  },
  {
   "cell_type": "code",
   "execution_count": 33,
   "metadata": {},
   "outputs": [
    {
     "name": "stderr",
     "output_type": "stream",
     "text": [
      "C:\\Users\\ASUS\\AppData\\Local\\Temp\\ipykernel_24396\\3901464396.py:1: FutureWarning: Series.__getitem__ treating keys as positions is deprecated. In a future version, integer keys will always be treated as labels (consistent with DataFrame behavior). To access a value by position, use `ser.iloc[pos]`\n",
      "  dataset.iloc[2][0]\n"
     ]
    },
    {
     "data": {
      "text/plain": [
       "28"
      ]
     },
     "execution_count": 33,
     "metadata": {},
     "output_type": "execute_result"
    }
   ],
   "source": [
    "dataset.iloc[2][0]"
   ]
  },
  {
   "cell_type": "code",
   "execution_count": 79,
   "metadata": {},
   "outputs": [],
   "source": [
    "features = dataset.drop('income', axis=1)\n",
    "target = dataset['income']\n",
    "\n",
    "from sklearn.model_selection import train_test_split\n",
    "x_train, x_test, y_train, y_test = train_test_split(features, target, test_size=0.2, random_state=10)\n",
    "\n",
    "# make the prediction\n",
    "y_pred = naive_bayes(dataset, features, target)\n"
   ]
  },
  {
   "cell_type": "code",
   "execution_count": 80,
   "metadata": {},
   "outputs": [
    {
     "name": "stdout",
     "output_type": "stream",
     "text": [
      "[[11594   841]\n",
      " [ 1965  1881]]\n"
     ]
    }
   ],
   "source": [
    "from sklearn.metrics import confusion_matrix\n",
    "print(confusion_matrix(target, y_pred))"
   ]
  },
  {
   "cell_type": "code",
   "execution_count": 81,
   "metadata": {},
   "outputs": [
    {
     "data": {
      "text/plain": [
       "<sklearn.metrics._plot.confusion_matrix.ConfusionMatrixDisplay at 0x19a866910d0>"
      ]
     },
     "execution_count": 81,
     "metadata": {},
     "output_type": "execute_result"
    },
    {
     "data": {
      "image/png": "[encoded data removed]",
      "text/plain": [
       "<Figure size 640x480 with 2 Axes>"
      ]
     },
     "metadata": {},
     "output_type": "display_data"
    }
   ],
   "source": [
    "# Plot a confusion matrix \n",
    "from sklearn.metrics import ConfusionMatrixDisplay\n",
    "cm = confusion_matrix(target, y_pred)\n",
    "\n",
    "display = ConfusionMatrixDisplay(confusion_matrix= cm)\n",
    "display.plot()"
   ]
  },
  {
   "cell_type": "markdown",
   "metadata": {},
   "source": [
    "##### Calculate sensitivity and specificity"
   ]
  },
  {
   "cell_type": "code",
   "execution_count": 82,
   "metadata": {},
   "outputs": [],
   "source": [
    "def sensitivity(cm):\n",
    "    return (cm[1][1])/(cm[0][1]+cm[1][1])\n",
    "def specificity(cm):\n",
    "    return (cm[0][0])/(cm[0][0]+cm[1][0])"
   ]
  },
  {
   "cell_type": "code",
   "execution_count": 83,
   "metadata": {},
   "outputs": [
    {
     "name": "stdout",
     "output_type": "stream",
     "text": [
      "Sensitivity = 0.6910360029390155\n",
      "Specificity = 0.8550778080979423\n"
     ]
    }
   ],
   "source": [
    "print(f\"Sensitivity = {sensitivity(cm)}\\nSpecificity = {specificity(cm)}\")"
   ]
  }
 ],
 "metadata": {
  "kernelspec": {
   "display_name": "Python 3",
   "language": "python",
   "name": "python3"
  },
  "language_info": {
   "codemirror_mode": {
    "name": "ipython",
    "version": 3
   },
   "file_extension": ".py",
   "mimetype": "text/x-python",
   "name": "python",
   "nbconvert_exporter": "python",
   "pygments_lexer": "ipython3",
   "version": "3.11.4"
  }
 },
 "nbformat": 4,
 "nbformat_minor": 2
}
